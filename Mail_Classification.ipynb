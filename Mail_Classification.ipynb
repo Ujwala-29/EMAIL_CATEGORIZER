{
  "nbformat": 4,
  "nbformat_minor": 0,
  "metadata": {
    "colab": {
      "provenance": []
    },
    "kernelspec": {
      "name": "python3",
      "display_name": "Python 3"
    },
    "language_info": {
      "name": "python"
    }
  },
  "cells": [
    {
      "cell_type": "code",
      "source": [
        "pip install fuzzywuzzy\n"
      ],
      "metadata": {
        "colab": {
          "base_uri": "https://localhost:8080/"
        },
        "id": "BeWbZd7Rwnpp",
        "outputId": "a4566114-2d6e-4b8f-aa3a-0c962b7e25e7"
      },
      "execution_count": null,
      "outputs": [
        {
          "output_type": "stream",
          "name": "stdout",
          "text": [
            "Requirement already satisfied: fuzzywuzzy in /usr/local/lib/python3.11/dist-packages (0.18.0)\n"
          ]
        }
      ]
    },
    {
      "cell_type": "code",
      "source": [
        "import pandas as pd\n",
        "import re\n",
        "import nltk\n",
        "from nltk.corpus import stopwords\n",
        "from sklearn.feature_extraction.text import TfidfVectorizer, CountVectorizer\n",
        "from sklearn.model_selection import train_test_split\n",
        "from sklearn.ensemble import RandomForestClassifier\n",
        "from sklearn.svm import SVC\n",
        "from sklearn.naive_bayes import MultinomialNB\n",
        "from sklearn.preprocessing import LabelEncoder\n",
        "from sklearn.metrics import accuracy_score\n",
        "from fuzzywuzzy import process\n",
        "from sklearn.utils import resample"
      ],
      "metadata": {
        "id": "nRZw5LkC0M-F"
      },
      "execution_count": null,
      "outputs": []
    },
    {
      "cell_type": "code",
      "source": [
        "\n",
        "# Download NLTK stopwords\n",
        "nltk.download(\"stopwords\")\n",
        "stop_words = set(stopwords.words(\"english\"))\n",
        "\n",
        "# Load dataset\n",
        "df = pd.read_csv(\"/content/mail_data.csv\")"
      ],
      "metadata": {
        "colab": {
          "base_uri": "https://localhost:8080/"
        },
        "id": "bL8LKQ500PkH",
        "outputId": "fc61df93-6410-45fb-8730-741c057d0cc6"
      },
      "execution_count": null,
      "outputs": [
        {
          "output_type": "stream",
          "name": "stderr",
          "text": [
            "[nltk_data] Downloading package stopwords to /root/nltk_data...\n",
            "[nltk_data]   Package stopwords is already up-to-date!\n"
          ]
        }
      ]
    },
    {
      "cell_type": "code",
      "source": [
        "# Clean text function\n",
        "def clean_text(text):\n",
        "    if pd.isna(text):\n",
        "        return \"\"\n",
        "    text = re.sub(r\"http\\S+|www\\S+|https\\S+\", \"\", text)  # Remove URLs\n",
        "    text = re.sub(r\"\\W\", \" \", text)  # Remove special characters\n",
        "    text = text.lower()  # Convert to lowercase\n",
        "    text = \" \".join([word for word in text.split() if word not in stop_words])  # Remove stopwords\n",
        "    return text\n",
        "\n",
        "df[\"clean_text\"] = df[\"Message\"].apply(clean_text)"
      ],
      "metadata": {
        "id": "pRTL1cIV0T_b"
      },
      "execution_count": null,
      "outputs": []
    },
    {
      "cell_type": "code",
      "source": [
        "# Define keyword categories\n",
        "categories = {\n",
        "    \"Primary\": [\n",
        "        \"meeting\", \"schedule\", \"report\", \"deadline\", \"appointment\", \"conference\", \"memo\",\n",
        "        \"notification\", \"announcement\", \"official\", \"request\", \"update\", \"reminder\"\n",
        "    ],\n",
        "    \"Promotions\": [\n",
        "        \"discount\", \"sale\", \"offer\", \"limited-time\", \"deal\", \"promo\", \"exclusive\", \"voucher\",\n",
        "        \"coupon\", \"save\", \"clearance\", \"cashback\", \"redeem\", \"flash sale\", \"gift\", \"reward\"\n",
        "    ],\n",
        "    \"Social\": [\n",
        "        \"Facebook\", \"Twitter\", \"LinkedIn\", \"invitation\", \"follow\", \"comment\", \"like\",\n",
        "        \"mention\", \"message\", \"friend request\", \"tagged\", \"shared\", \"chat\", \"DM\"\n",
        "    ],\n",
        "    \"Spam\": [\n",
        "        \"winner\", \"lottery\", \"free money\", \"urgent\", \"congratulations\", \"claim\", \"prize\",\n",
        "        \"guaranteed\", \"limited offer\", \"click here\", \"no cost\", \"100% free\", \"risk-free\",\n",
        "        \"investment opportunity\", \"exclusive deal\", \"one-time offer\"\n",
        "    ],\n",
        "    \"Work\": [\n",
        "        \"project\", \"boss\", \"team\", \"update\", \"task\", \"assignment\", \"collaboration\", \"report\",\n",
        "        \"presentation\", \"client\", \"deadline\", \"status update\", \"meeting notes\", \"strategy\"\n",
        "    ],\n",
        "    \"Personal\": [\n",
        "        \"family\", \"dinner\", \"vacation\", \"call\", \"love\", \"birthday\", \"weekend\", \"mom\", \"dad\",\n",
        "        \"brother\", \"sister\", \"friend\", \"catch-up\", \"get-together\", \"anniversary\", \"party\"\n",
        "    ],\n",
        "}\n"
      ],
      "metadata": {
        "id": "lFqmc4bj0bDq"
      },
      "execution_count": null,
      "outputs": []
    },
    {
      "cell_type": "code",
      "source": [
        "# Improved Email Classification using Fuzzy Matching\n",
        "def classify_email(text):\n",
        "    text = text.lower()\n",
        "    best_match = None\n",
        "    highest_score = 0\n",
        "\n",
        "    for category, keywords in categories.items():\n",
        "        for keyword in keywords:\n",
        "            score = process.extractOne(keyword, text.split())  # Match words in text\n",
        "            if score and score[1] > highest_score:\n",
        "                highest_score = score[1]\n",
        "                best_match = category\n",
        "\n",
        "    return best_match if highest_score > 70 else \"Custom\"\n",
        "\n",
        "df[\"category\"] = df[\"clean_text\"].apply(classify_email)\n"
      ],
      "metadata": {
        "id": "BjvfZ8BN3RJ9"
      },
      "execution_count": null,
      "outputs": []
    },
    {
      "cell_type": "code",
      "source": [
        "# Balance the dataset\n",
        "df_custom = df[df[\"category\"] == \"Custom\"]\n",
        "df_others = df[df[\"category\"] != \"Custom\"]\n",
        "from sklearn.utils import resample\n",
        "\n",
        "# Get the actual number of \"Custom\" and non-\"Custom\" samples\n",
        "n_samples_to_match = min(len(df_custom), len(df_others))  # Prevent oversampling\n",
        "\n",
        "df_custom_downsampled = resample(df_custom,\n",
        "                                 replace=False,\n",
        "                                 n_samples=n_samples_to_match,  # Match the smaller group\n",
        "                                 random_state=42)\n",
        "\n",
        "df_balanced = pd.concat([df_custom_downsampled, df_others])\n"
      ],
      "metadata": {
        "id": "4BPdCV_w6Oe7"
      },
      "execution_count": null,
      "outputs": []
    },
    {
      "cell_type": "code",
      "source": [
        "\n",
        "# Encode categories\n",
        "label_encoder = LabelEncoder()\n",
        "df_balanced[\"category_encoded\"] = label_encoder.fit_transform(df_balanced[\"category\"])\n",
        "\n",
        "# Convert email text to TF-IDF features\n",
        "tfidf_vectorizer = TfidfVectorizer(stop_words=\"english\", max_features=5000)\n",
        "X = tfidf_vectorizer.fit_transform(df_balanced[\"clean_text\"])\n",
        "y = df_balanced[\"category_encoded\"]\n",
        "\n",
        "# Split into training and testing data\n",
        "X_train, X_test, y_train, y_test = train_test_split(X, y, test_size=0.2, random_state=42)"
      ],
      "metadata": {
        "id": "W09NUX-26pZC"
      },
      "execution_count": null,
      "outputs": []
    },
    {
      "cell_type": "code",
      "source": [
        "# Train Random Forest Classifier\n",
        "rf_model = RandomForestClassifier(n_estimators=200, random_state=42)\n",
        "rf_model.fit(X_train, y_train)\n",
        "y_pred_rf = rf_model.predict(X_test)\n",
        "print(f\"Random Forest Accuracy: {accuracy_score(y_test, y_pred_rf):.2f}\")"
      ],
      "metadata": {
        "colab": {
          "base_uri": "https://localhost:8080/"
        },
        "id": "o0ONtWDU6r3Y",
        "outputId": "e6aedb54-1714-4918-dec5-173064812037"
      },
      "execution_count": null,
      "outputs": [
        {
          "output_type": "stream",
          "name": "stdout",
          "text": [
            "Random Forest Accuracy: 0.68\n"
          ]
        }
      ]
    },
    {
      "cell_type": "code",
      "source": [],
      "metadata": {
        "id": "EHLWrlLoz8oo"
      },
      "execution_count": null,
      "outputs": []
    },
    {
      "cell_type": "code",
      "source": [
        "# Train SVM Classifier\n",
        "svm_model = SVC(kernel=\"linear\", random_state=42)\n",
        "svm_model.fit(X_train, y_train)\n",
        "y_pred_svm = svm_model.predict(X_test)\n",
        "print(f\"SVM Accuracy: {accuracy_score(y_test, y_pred_svm):.2f}\")\n"
      ],
      "metadata": {
        "colab": {
          "base_uri": "https://localhost:8080/"
        },
        "id": "rYMv9N0o6uQP",
        "outputId": "4526450a-df54-4d44-c877-3c1edf2fbb3b"
      },
      "execution_count": null,
      "outputs": [
        {
          "output_type": "stream",
          "name": "stdout",
          "text": [
            "SVM Accuracy: 0.62\n"
          ]
        }
      ]
    },
    {
      "cell_type": "code",
      "source": [
        "\n",
        "# Train Naïve Bayes Classifier\n",
        "nb_model = MultinomialNB()\n",
        "nb_model.fit(X_train, y_train)\n",
        "y_pred_nb = nb_model.predict(X_test)\n",
        "print(f\"Naïve Bayes Accuracy: {accuracy_score(y_test, y_pred_nb):.2f}\")"
      ],
      "metadata": {
        "colab": {
          "base_uri": "https://localhost:8080/"
        },
        "id": "aMygfuGD6xXF",
        "outputId": "d169a35a-0bee-4477-e3db-cf33a4d06b43"
      },
      "execution_count": null,
      "outputs": [
        {
          "output_type": "stream",
          "name": "stdout",
          "text": [
            "Naïve Bayes Accuracy: 0.51\n"
          ]
        }
      ]
    },
    {
      "cell_type": "code",
      "source": [
        "# Test Predictions\n",
        "test_emails = [\n",
        "    \"Meeting scheduled for tomorrow\",\n",
        "    \"Exclusive sale! Get 70% off today\",\n",
        "    \"Congratulations! You won a lottery\",\n",
        "    \"Let's plan a family dinner this weekend\"\n",
        "]"
      ],
      "metadata": {
        "id": "vE9WtYyq61-E"
      },
      "execution_count": null,
      "outputs": []
    },
    {
      "cell_type": "code",
      "source": [
        "test_emails = [\n",
        "    \"Reminder: Your meeting with the project team is scheduled for tomorrow at 10 AM.\",\n",
        "    \"Flash Sale! Get 50% off on all electronic items. Limited-time offer, shop now!\",\n",
        "    \"John mentioned you in a comment on Facebook. Click here to view the conversation.\",\n",
        "    \"Congratulations! You have won a free iPhone. Claim your prize now before it expires!\",\n",
        "    \"Team, please submit your weekly status report by Friday EOD.\",\n",
        "    \"Hey, let's plan a family dinner this weekend. Let me know your availability!\",\n",
        "    \"Hello! Just checking in. How have you been?\"\n",
        "]"
      ],
      "metadata": {
        "id": "GPwT1NRL7F3p"
      },
      "execution_count": null,
      "outputs": []
    },
    {
      "cell_type": "code",
      "source": [
        "\n",
        "\n",
        "\n",
        "for email in test_emails:\n",
        "    new_email_tfidf = tfidf_vectorizer.transform([email])\n",
        "    predicted_category_rf = label_encoder.inverse_transform(rf_model.predict(new_email_tfidf))\n",
        "    predicted_category_svm = label_encoder.inverse_transform(svm_model.predict(new_email_tfidf))\n",
        "    predicted_category_nb = label_encoder.inverse_transform(nb_model.predict(new_email_tfidf))\n",
        "\n",
        "    print(f\"Email: {email}\")\n",
        "    print(f\"RF Prediction: {predicted_category_rf[0]}\")\n",
        "    print(f\"SVM Prediction: {predicted_category_svm[0]}\")\n",
        "    print(f\"NB Prediction: {predicted_category_nb[0]}\")\n",
        "    print(\"-\" * 50)\n"
      ],
      "metadata": {
        "colab": {
          "base_uri": "https://localhost:8080/"
        },
        "id": "xul-1vawwdus",
        "outputId": "8645bd90-7ba4-4fe9-8e1a-9d71e1b30b2a"
      },
      "execution_count": null,
      "outputs": [
        {
          "output_type": "stream",
          "name": "stdout",
          "text": [
            "Email: Reminder: Your meeting with the project team is scheduled for tomorrow at 10 AM.\n",
            "RF Prediction: Primary\n",
            "SVM Prediction: Work\n",
            "NB Prediction: Primary\n",
            "--------------------------------------------------\n",
            "Email: Flash Sale! Get 50% off on all electronic items. Limited-time offer, shop now!\n",
            "RF Prediction: Promotions\n",
            "SVM Prediction: Promotions\n",
            "NB Prediction: Promotions\n",
            "--------------------------------------------------\n",
            "Email: John mentioned you in a comment on Facebook. Click here to view the conversation.\n",
            "RF Prediction: Social\n",
            "SVM Prediction: Social\n",
            "NB Prediction: Social\n",
            "--------------------------------------------------\n",
            "Email: Congratulations! You have won a free iPhone. Claim your prize now before it expires!\n",
            "RF Prediction: Spam\n",
            "SVM Prediction: Spam\n",
            "NB Prediction: Spam\n",
            "--------------------------------------------------\n",
            "Email: Team, please submit your weekly status report by Friday EOD.\n",
            "RF Prediction: Work\n",
            "SVM Prediction: Primary\n",
            "NB Prediction: Primary\n",
            "--------------------------------------------------\n",
            "Email: Hey, let's plan a family dinner this weekend. Let me know your availability!\n",
            "RF Prediction: Personal\n",
            "SVM Prediction: Personal\n",
            "NB Prediction: Personal\n",
            "--------------------------------------------------\n",
            "Email: Hello! Just checking in. How have you been?\n",
            "RF Prediction: Personal\n",
            "SVM Prediction: Primary\n",
            "NB Prediction: Personal\n",
            "--------------------------------------------------\n"
          ]
        }
      ]
    },
    {
      "cell_type": "code",
      "source": [
        "import pickle\n",
        "\n",
        "# Save Random Forest model\n",
        "with open('rf_model.pkl', 'wb') as file:\n",
        "    pickle.dump(rf_model, file)\n",
        "\n",
        "# Save SVM model\n",
        "with open('svm_model.pkl', 'wb') as file:\n",
        "    pickle.dump(svm_model, file)\n",
        "\n",
        "# Save Naive Bayes model\n",
        "with open('nb_model.pkl', 'wb') as file:\n",
        "    pickle.dump(nb_model, file)\n",
        "\n",
        "# Save TF-IDF vectorizer\n",
        "with open('tfidf_vectorizer.pkl', 'wb') as file:\n",
        "    pickle.dump(tfidf_vectorizer, file)\n",
        "\n",
        "# Save Label Encoder\n",
        "with open('label_encoder.pkl', 'wb') as file:\n",
        "    pickle.dump(label_encoder, file)\n",
        "\n",
        "print(\"Models and vectorizer saved successfully!\")\n"
      ],
      "metadata": {
        "colab": {
          "base_uri": "https://localhost:8080/"
        },
        "id": "r6C4muERmx_P",
        "outputId": "ab7967c5-d6b7-40e9-bde5-c49de1d4ba05"
      },
      "execution_count": null,
      "outputs": [
        {
          "output_type": "stream",
          "name": "stdout",
          "text": [
            "Models and vectorizer saved successfully!\n"
          ]
        }
      ]
    },
    {
      "cell_type": "code",
      "source": [
        "from google.colab import files\n",
        "\n",
        "files.download('rf_model.pkl')\n",
        "files.download('svm_model.pkl')\n",
        "files.download('nb_model.pkl')\n",
        "files.download('tfidf_vectorizer.pkl')\n",
        "files.download('label_encoder.pkl')\n",
        "\n"
      ],
      "metadata": {
        "colab": {
          "base_uri": "https://localhost:8080/",
          "height": 17
        },
        "id": "-kAfTW1Dm_fz",
        "outputId": "0479fc73-4a77-4068-a9ed-64cf1f50a72a"
      },
      "execution_count": null,
      "outputs": [
        {
          "output_type": "display_data",
          "data": {
            "text/plain": [
              "<IPython.core.display.Javascript object>"
            ],
            "application/javascript": [
              "\n",
              "    async function download(id, filename, size) {\n",
              "      if (!google.colab.kernel.accessAllowed) {\n",
              "        return;\n",
              "      }\n",
              "      const div = document.createElement('div');\n",
              "      const label = document.createElement('label');\n",
              "      label.textContent = `Downloading \"${filename}\": `;\n",
              "      div.appendChild(label);\n",
              "      const progress = document.createElement('progress');\n",
              "      progress.max = size;\n",
              "      div.appendChild(progress);\n",
              "      document.body.appendChild(div);\n",
              "\n",
              "      const buffers = [];\n",
              "      let downloaded = 0;\n",
              "\n",
              "      const channel = await google.colab.kernel.comms.open(id);\n",
              "      // Send a message to notify the kernel that we're ready.\n",
              "      channel.send({})\n",
              "\n",
              "      for await (const message of channel.messages) {\n",
              "        // Send a message to notify the kernel that we're ready.\n",
              "        channel.send({})\n",
              "        if (message.buffers) {\n",
              "          for (const buffer of message.buffers) {\n",
              "            buffers.push(buffer);\n",
              "            downloaded += buffer.byteLength;\n",
              "            progress.value = downloaded;\n",
              "          }\n",
              "        }\n",
              "      }\n",
              "      const blob = new Blob(buffers, {type: 'application/binary'});\n",
              "      const a = document.createElement('a');\n",
              "      a.href = window.URL.createObjectURL(blob);\n",
              "      a.download = filename;\n",
              "      div.appendChild(a);\n",
              "      a.click();\n",
              "      div.remove();\n",
              "    }\n",
              "  "
            ]
          },
          "metadata": {}
        },
        {
          "output_type": "display_data",
          "data": {
            "text/plain": [
              "<IPython.core.display.Javascript object>"
            ],
            "application/javascript": [
              "download(\"download_9e6eb6dd-50e1-4aee-ad65-4f9dae1269f9\", \"rf_model.pkl\", 90276347)"
            ]
          },
          "metadata": {}
        },
        {
          "output_type": "display_data",
          "data": {
            "text/plain": [
              "<IPython.core.display.Javascript object>"
            ],
            "application/javascript": [
              "\n",
              "    async function download(id, filename, size) {\n",
              "      if (!google.colab.kernel.accessAllowed) {\n",
              "        return;\n",
              "      }\n",
              "      const div = document.createElement('div');\n",
              "      const label = document.createElement('label');\n",
              "      label.textContent = `Downloading \"${filename}\": `;\n",
              "      div.appendChild(label);\n",
              "      const progress = document.createElement('progress');\n",
              "      progress.max = size;\n",
              "      div.appendChild(progress);\n",
              "      document.body.appendChild(div);\n",
              "\n",
              "      const buffers = [];\n",
              "      let downloaded = 0;\n",
              "\n",
              "      const channel = await google.colab.kernel.comms.open(id);\n",
              "      // Send a message to notify the kernel that we're ready.\n",
              "      channel.send({})\n",
              "\n",
              "      for await (const message of channel.messages) {\n",
              "        // Send a message to notify the kernel that we're ready.\n",
              "        channel.send({})\n",
              "        if (message.buffers) {\n",
              "          for (const buffer of message.buffers) {\n",
              "            buffers.push(buffer);\n",
              "            downloaded += buffer.byteLength;\n",
              "            progress.value = downloaded;\n",
              "          }\n",
              "        }\n",
              "      }\n",
              "      const blob = new Blob(buffers, {type: 'application/binary'});\n",
              "      const a = document.createElement('a');\n",
              "      a.href = window.URL.createObjectURL(blob);\n",
              "      a.download = filename;\n",
              "      div.appendChild(a);\n",
              "      a.click();\n",
              "      div.remove();\n",
              "    }\n",
              "  "
            ]
          },
          "metadata": {}
        },
        {
          "output_type": "display_data",
          "data": {
            "text/plain": [
              "<IPython.core.display.Javascript object>"
            ],
            "application/javascript": [
              "download(\"download_96fef65b-e11d-4771-bd55-113de4164c3d\", \"svm_model.pkl\", 747680)"
            ]
          },
          "metadata": {}
        },
        {
          "output_type": "display_data",
          "data": {
            "text/plain": [
              "<IPython.core.display.Javascript object>"
            ],
            "application/javascript": [
              "\n",
              "    async function download(id, filename, size) {\n",
              "      if (!google.colab.kernel.accessAllowed) {\n",
              "        return;\n",
              "      }\n",
              "      const div = document.createElement('div');\n",
              "      const label = document.createElement('label');\n",
              "      label.textContent = `Downloading \"${filename}\": `;\n",
              "      div.appendChild(label);\n",
              "      const progress = document.createElement('progress');\n",
              "      progress.max = size;\n",
              "      div.appendChild(progress);\n",
              "      document.body.appendChild(div);\n",
              "\n",
              "      const buffers = [];\n",
              "      let downloaded = 0;\n",
              "\n",
              "      const channel = await google.colab.kernel.comms.open(id);\n",
              "      // Send a message to notify the kernel that we're ready.\n",
              "      channel.send({})\n",
              "\n",
              "      for await (const message of channel.messages) {\n",
              "        // Send a message to notify the kernel that we're ready.\n",
              "        channel.send({})\n",
              "        if (message.buffers) {\n",
              "          for (const buffer of message.buffers) {\n",
              "            buffers.push(buffer);\n",
              "            downloaded += buffer.byteLength;\n",
              "            progress.value = downloaded;\n",
              "          }\n",
              "        }\n",
              "      }\n",
              "      const blob = new Blob(buffers, {type: 'application/binary'});\n",
              "      const a = document.createElement('a');\n",
              "      a.href = window.URL.createObjectURL(blob);\n",
              "      a.download = filename;\n",
              "      div.appendChild(a);\n",
              "      a.click();\n",
              "      div.remove();\n",
              "    }\n",
              "  "
            ]
          },
          "metadata": {}
        },
        {
          "output_type": "display_data",
          "data": {
            "text/plain": [
              "<IPython.core.display.Javascript object>"
            ],
            "application/javascript": [
              "download(\"download_cb265d9a-fac8-4731-aa8e-7483901ee245\", \"nb_model.pkl\", 560737)"
            ]
          },
          "metadata": {}
        },
        {
          "output_type": "display_data",
          "data": {
            "text/plain": [
              "<IPython.core.display.Javascript object>"
            ],
            "application/javascript": [
              "\n",
              "    async function download(id, filename, size) {\n",
              "      if (!google.colab.kernel.accessAllowed) {\n",
              "        return;\n",
              "      }\n",
              "      const div = document.createElement('div');\n",
              "      const label = document.createElement('label');\n",
              "      label.textContent = `Downloading \"${filename}\": `;\n",
              "      div.appendChild(label);\n",
              "      const progress = document.createElement('progress');\n",
              "      progress.max = size;\n",
              "      div.appendChild(progress);\n",
              "      document.body.appendChild(div);\n",
              "\n",
              "      const buffers = [];\n",
              "      let downloaded = 0;\n",
              "\n",
              "      const channel = await google.colab.kernel.comms.open(id);\n",
              "      // Send a message to notify the kernel that we're ready.\n",
              "      channel.send({})\n",
              "\n",
              "      for await (const message of channel.messages) {\n",
              "        // Send a message to notify the kernel that we're ready.\n",
              "        channel.send({})\n",
              "        if (message.buffers) {\n",
              "          for (const buffer of message.buffers) {\n",
              "            buffers.push(buffer);\n",
              "            downloaded += buffer.byteLength;\n",
              "            progress.value = downloaded;\n",
              "          }\n",
              "        }\n",
              "      }\n",
              "      const blob = new Blob(buffers, {type: 'application/binary'});\n",
              "      const a = document.createElement('a');\n",
              "      a.href = window.URL.createObjectURL(blob);\n",
              "      a.download = filename;\n",
              "      div.appendChild(a);\n",
              "      a.click();\n",
              "      div.remove();\n",
              "    }\n",
              "  "
            ]
          },
          "metadata": {}
        },
        {
          "output_type": "display_data",
          "data": {
            "text/plain": [
              "<IPython.core.display.Javascript object>"
            ],
            "application/javascript": [
              "download(\"download_1e5f1f5b-7748-4adf-9de8-2129ded24ca1\", \"tfidf_vectorizer.pkl\", 179988)"
            ]
          },
          "metadata": {}
        },
        {
          "output_type": "display_data",
          "data": {
            "text/plain": [
              "<IPython.core.display.Javascript object>"
            ],
            "application/javascript": [
              "\n",
              "    async function download(id, filename, size) {\n",
              "      if (!google.colab.kernel.accessAllowed) {\n",
              "        return;\n",
              "      }\n",
              "      const div = document.createElement('div');\n",
              "      const label = document.createElement('label');\n",
              "      label.textContent = `Downloading \"${filename}\": `;\n",
              "      div.appendChild(label);\n",
              "      const progress = document.createElement('progress');\n",
              "      progress.max = size;\n",
              "      div.appendChild(progress);\n",
              "      document.body.appendChild(div);\n",
              "\n",
              "      const buffers = [];\n",
              "      let downloaded = 0;\n",
              "\n",
              "      const channel = await google.colab.kernel.comms.open(id);\n",
              "      // Send a message to notify the kernel that we're ready.\n",
              "      channel.send({})\n",
              "\n",
              "      for await (const message of channel.messages) {\n",
              "        // Send a message to notify the kernel that we're ready.\n",
              "        channel.send({})\n",
              "        if (message.buffers) {\n",
              "          for (const buffer of message.buffers) {\n",
              "            buffers.push(buffer);\n",
              "            downloaded += buffer.byteLength;\n",
              "            progress.value = downloaded;\n",
              "          }\n",
              "        }\n",
              "      }\n",
              "      const blob = new Blob(buffers, {type: 'application/binary'});\n",
              "      const a = document.createElement('a');\n",
              "      a.href = window.URL.createObjectURL(blob);\n",
              "      a.download = filename;\n",
              "      div.appendChild(a);\n",
              "      a.click();\n",
              "      div.remove();\n",
              "    }\n",
              "  "
            ]
          },
          "metadata": {}
        },
        {
          "output_type": "display_data",
          "data": {
            "text/plain": [
              "<IPython.core.display.Javascript object>"
            ],
            "application/javascript": [
              "download(\"download_77ae4fbf-ea25-4e5d-a83d-f085180ec964\", \"label_encoder.pkl\", 309)"
            ]
          },
          "metadata": {}
        }
      ]
    }
  ]
}