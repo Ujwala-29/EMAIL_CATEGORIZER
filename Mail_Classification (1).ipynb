{
  "cells": [
    {
      "cell_type": "code",
      "execution_count": 18,
      "metadata": {
        "colab": {
          "base_uri": "https://localhost:8080/"
        },
        "id": "jRbHgt8IWaNZ",
        "outputId": "3e7cf851-3534-4955-b234-5e01ef1a4951"
      },
      "outputs": [
        {
          "output_type": "stream",
          "name": "stdout",
          "text": [
            "Requirement already satisfied: pandas in /usr/local/lib/python3.11/dist-packages (2.2.2)\n",
            "Requirement already satisfied: nltk in /usr/local/lib/python3.11/dist-packages (3.9.1)\n",
            "Requirement already satisfied: scikit-learn in /usr/local/lib/python3.11/dist-packages (1.6.1)\n",
            "Requirement already satisfied: fuzzywuzzy in /usr/local/lib/python3.11/dist-packages (0.18.0)\n",
            "Requirement already satisfied: langdetect in /usr/local/lib/python3.11/dist-packages (1.0.9)\n",
            "Requirement already satisfied: googletrans==4.0.0-rc1 in /usr/local/lib/python3.11/dist-packages (4.0.0rc1)\n",
            "Requirement already satisfied: httpx==0.13.3 in /usr/local/lib/python3.11/dist-packages (from googletrans==4.0.0-rc1) (0.13.3)\n",
            "Requirement already satisfied: certifi in /usr/local/lib/python3.11/dist-packages (from httpx==0.13.3->googletrans==4.0.0-rc1) (2025.4.26)\n",
            "Requirement already satisfied: hstspreload in /usr/local/lib/python3.11/dist-packages (from httpx==0.13.3->googletrans==4.0.0-rc1) (2025.1.1)\n",
            "Requirement already satisfied: sniffio in /usr/local/lib/python3.11/dist-packages (from httpx==0.13.3->googletrans==4.0.0-rc1) (1.3.1)\n",
            "Requirement already satisfied: chardet==3.* in /usr/local/lib/python3.11/dist-packages (from httpx==0.13.3->googletrans==4.0.0-rc1) (3.0.4)\n",
            "Requirement already satisfied: idna==2.* in /usr/local/lib/python3.11/dist-packages (from httpx==0.13.3->googletrans==4.0.0-rc1) (2.10)\n",
            "Requirement already satisfied: rfc3986<2,>=1.3 in /usr/local/lib/python3.11/dist-packages (from httpx==0.13.3->googletrans==4.0.0-rc1) (1.5.0)\n",
            "Requirement already satisfied: httpcore==0.9.* in /usr/local/lib/python3.11/dist-packages (from httpx==0.13.3->googletrans==4.0.0-rc1) (0.9.1)\n",
            "Requirement already satisfied: h11<0.10,>=0.8 in /usr/local/lib/python3.11/dist-packages (from httpcore==0.9.*->httpx==0.13.3->googletrans==4.0.0-rc1) (0.9.0)\n",
            "Requirement already satisfied: h2==3.* in /usr/local/lib/python3.11/dist-packages (from httpcore==0.9.*->httpx==0.13.3->googletrans==4.0.0-rc1) (3.2.0)\n",
            "Requirement already satisfied: hyperframe<6,>=5.2.0 in /usr/local/lib/python3.11/dist-packages (from h2==3.*->httpcore==0.9.*->httpx==0.13.3->googletrans==4.0.0-rc1) (5.2.0)\n",
            "Requirement already satisfied: hpack<4,>=3.0 in /usr/local/lib/python3.11/dist-packages (from h2==3.*->httpcore==0.9.*->httpx==0.13.3->googletrans==4.0.0-rc1) (3.0.0)\n",
            "Requirement already satisfied: numpy>=1.23.2 in /usr/local/lib/python3.11/dist-packages (from pandas) (2.0.2)\n",
            "Requirement already satisfied: python-dateutil>=2.8.2 in /usr/local/lib/python3.11/dist-packages (from pandas) (2.9.0.post0)\n",
            "Requirement already satisfied: pytz>=2020.1 in /usr/local/lib/python3.11/dist-packages (from pandas) (2025.2)\n",
            "Requirement already satisfied: tzdata>=2022.7 in /usr/local/lib/python3.11/dist-packages (from pandas) (2025.2)\n",
            "Requirement already satisfied: click in /usr/local/lib/python3.11/dist-packages (from nltk) (8.1.8)\n",
            "Requirement already satisfied: joblib in /usr/local/lib/python3.11/dist-packages (from nltk) (1.4.2)\n",
            "Requirement already satisfied: regex>=2021.8.3 in /usr/local/lib/python3.11/dist-packages (from nltk) (2024.11.6)\n",
            "Requirement already satisfied: tqdm in /usr/local/lib/python3.11/dist-packages (from nltk) (4.67.1)\n",
            "Requirement already satisfied: scipy>=1.6.0 in /usr/local/lib/python3.11/dist-packages (from scikit-learn) (1.15.2)\n",
            "Requirement already satisfied: threadpoolctl>=3.1.0 in /usr/local/lib/python3.11/dist-packages (from scikit-learn) (3.6.0)\n",
            "Requirement already satisfied: six in /usr/local/lib/python3.11/dist-packages (from langdetect) (1.17.0)\n"
          ]
        }
      ],
      "source": [
        "pip install pandas nltk scikit-learn fuzzywuzzy langdetect googletrans==4.0.0-rc1\n"
      ]
    },
    {
      "cell_type": "code",
      "execution_count": 19,
      "metadata": {
        "id": "GG4D5KsgW7_6"
      },
      "outputs": [],
      "source": [
        "import pandas as pd\n",
        "import re\n",
        "import nltk\n",
        "import pickle\n",
        "from nltk.corpus import stopwords\n",
        "from sklearn.model_selection import train_test_split, GridSearchCV\n",
        "from sklearn.feature_extraction.text import TfidfVectorizer\n",
        "from sklearn.ensemble import RandomForestClassifier\n",
        "from sklearn.svm import SVC\n",
        "from sklearn.naive_bayes import MultinomialNB\n",
        "from sklearn.preprocessing import LabelEncoder\n",
        "from sklearn.metrics import accuracy_score\n",
        "from fuzzywuzzy import process\n",
        "from sklearn.utils import resample\n",
        "from langdetect import detect\n",
        "from googletrans import Translator"
      ]
    },
    {
      "cell_type": "code",
      "execution_count": 20,
      "metadata": {
        "colab": {
          "base_uri": "https://localhost:8080/"
        },
        "id": "jQ29WyLgC7qV",
        "outputId": "bbea5588-f31a-4f86-bd3b-2a1c279ae7c8"
      },
      "outputs": [
        {
          "output_type": "stream",
          "name": "stderr",
          "text": [
            "[nltk_data] Downloading package stopwords to /root/nltk_data...\n",
            "[nltk_data]   Package stopwords is already up-to-date!\n"
          ]
        }
      ],
      "source": [
        "# Download stopwords\n",
        "nltk.download(\"stopwords\")\n",
        "stop_words = set(stopwords.words(\"english\"))\n",
        "translator = Translator()"
      ]
    },
    {
      "cell_type": "code",
      "execution_count": 21,
      "metadata": {
        "id": "KUJRp2oOC-dz"
      },
      "outputs": [],
      "source": [
        "# Load dataset\n",
        "df = pd.read_csv(\"/content/mail_data.csv\")"
      ]
    },
    {
      "cell_type": "code",
      "execution_count": 22,
      "metadata": {
        "id": "3XTdES23DFh1"
      },
      "outputs": [],
      "source": [
        "# Text preprocessing\n",
        "def clean_text(text):\n",
        "    if pd.isna(text):\n",
        "        return \"\"\n",
        "    text = re.sub(r\"http\\S+|www\\S+|https\\S+\", \"\", text)\n",
        "    text = re.sub(r\"\\W\", \" \", text)\n",
        "    text = text.lower()\n",
        "    return \" \".join([word for word in text.split() if word not in stop_words])"
      ]
    },
    {
      "cell_type": "code",
      "execution_count": 23,
      "metadata": {
        "id": "w20ueWa6DXG3"
      },
      "outputs": [],
      "source": [
        "# Translate non-English emails\n",
        "def detect_and_translate(text):\n",
        "    try:\n",
        "        lang = detect(text)\n",
        "        if lang != 'en':\n",
        "            return translator.translate(text, src=lang, dest='en').text\n",
        "        return text\n",
        "    except:\n",
        "        return text"
      ]
    },
    {
      "cell_type": "code",
      "execution_count": 24,
      "metadata": {
        "id": "hYhnZIfODeB3"
      },
      "outputs": [],
      "source": [
        "# Apply translation and cleaning\n",
        "df['translated'] = df['Message'].astype(str).apply(detect_and_translate)\n",
        "df['clean_text'] = df['translated'].apply(clean_text)"
      ]
    },
    {
      "cell_type": "code",
      "execution_count": 25,
      "metadata": {
        "id": "Tcx2DXJyDnju"
      },
      "outputs": [],
      "source": [
        "# Fuzzy keyword-based categories\n",
        "# Define keyword categories\n",
        "categories = {\n",
        "    \"Primary\": [\n",
        "        \"meeting\", \"schedule\", \"report\", \"deadline\", \"appointment\", \"conference\", \"memo\",\n",
        "        \"notification\", \"announcement\", \"official\", \"request\", \"update\", \"reminder\"\n",
        "    ],\n",
        "    \"Promotions\": [\n",
        "        \"discount\", \"sale\", \"offer\", \"limited-time\", \"deal\", \"promo\", \"exclusive\", \"voucher\",\n",
        "        \"coupon\", \"save\", \"clearance\", \"cashback\", \"redeem\", \"flash sale\", \"gift\", \"reward\"\n",
        "    ],\n",
        "    \"Social\": [\n",
        "        \"Facebook\", \"Twitter\", \"LinkedIn\", \"invitation\", \"follow\", \"comment\", \"like\",\n",
        "        \"mention\", \"message\", \"friend request\", \"tagged\", \"shared\", \"chat\", \"DM\"\n",
        "    ],\n",
        "    \"Spam\": [\n",
        "        \"winner\", \"lottery\", \"free money\", \"urgent\", \"congratulations\", \"claim\", \"prize\",\n",
        "        \"guaranteed\", \"limited offer\", \"click here\", \"no cost\", \"100% free\", \"risk-free\",\n",
        "        \"investment opportunity\", \"exclusive deal\", \"one-time offer\"\n",
        "    ],\n",
        "    \"Work\": [\n",
        "        \"project\", \"boss\", \"team\", \"update\", \"task\", \"assignment\", \"collaboration\", \"report\",\n",
        "        \"presentation\", \"client\", \"deadline\", \"status update\", \"meeting notes\", \"strategy\"\n",
        "    ],\n",
        "    \"Personal\": [\n",
        "        \"family\", \"dinner\", \"vacation\", \"call\", \"love\", \"birthday\", \"weekend\", \"mom\", \"dad\",\n",
        "        \"brother\", \"sister\", \"friend\", \"catch-up\", \"get-together\", \"anniversary\", \"party\"\n",
        "    ],\n",
        "}"
      ]
    },
    {
      "cell_type": "code",
      "execution_count": 26,
      "metadata": {
        "id": "WYsM61DuDq0l"
      },
      "outputs": [],
      "source": [
        "\n",
        "def classify_email(text):\n",
        "    text = text.lower()\n",
        "    best_match = None\n",
        "    highest_score = 0\n",
        "    for category, keywords in categories.items():\n",
        "        for keyword in keywords:\n",
        "            score = process.extractOne(keyword, text.split())\n",
        "            if score and score[1] > highest_score:\n",
        "                highest_score = score[1]\n",
        "                best_match = category\n",
        "    return best_match if highest_score > 70 else \"Custom\"\n",
        "\n",
        "df[\"category\"] = df[\"clean_text\"].apply(classify_email)"
      ]
    },
    {
      "cell_type": "code",
      "execution_count": 27,
      "metadata": {
        "id": "9Kap3XcxDuJZ"
      },
      "outputs": [],
      "source": [
        "# Balance the dataset\n",
        "df_custom = df[df[\"category\"] == \"Custom\"]\n",
        "df_others = df[df[\"category\"] != \"Custom\"]\n",
        "n_samples = min(len(df_custom), len(df_others))\n",
        "df_custom_balanced = resample(df_custom, replace=False, n_samples=n_samples, random_state=42)\n",
        "df_balanced = pd.concat([df_custom_balanced, df_others])"
      ]
    },
    {
      "cell_type": "code",
      "execution_count": 28,
      "metadata": {
        "id": "SuHuSNKjDx61"
      },
      "outputs": [],
      "source": [
        "# Encode target\n",
        "label_encoder = LabelEncoder()\n",
        "df_balanced[\"category_encoded\"] = label_encoder.fit_transform(df_balanced[\"category\"])\n",
        "\n",
        "# TF-IDF\n",
        "tfidf_vectorizer = TfidfVectorizer(max_features=5000, stop_words=\"english\")\n",
        "X = tfidf_vectorizer.fit_transform(df_balanced[\"clean_text\"])\n",
        "y = df_balanced[\"category_encoded\"]"
      ]
    },
    {
      "cell_type": "code",
      "execution_count": 29,
      "metadata": {
        "id": "Jmn3ekbRD4eK"
      },
      "outputs": [],
      "source": [
        "# Train/test split\n",
        "X_train, X_test, y_train, y_test = train_test_split(X, y, test_size=0.2, random_state=42)"
      ]
    },
    {
      "cell_type": "code",
      "execution_count": 30,
      "metadata": {
        "colab": {
          "base_uri": "https://localhost:8080/"
        },
        "id": "zowQETyTD86B",
        "outputId": "9502de7e-c7d9-4879-b02b-36f8425b6a4f"
      },
      "outputs": [
        {
          "output_type": "stream",
          "name": "stdout",
          "text": [
            " Tuned Random Forest Accuracy: 0.6493273542600897\n",
            " Tuned SVM Accuracy: 0.6080717488789238\n",
            "Naive Bayes Accuracy: 0.4923766816143498\n"
          ]
        }
      ],
      "source": [
        "\n",
        "# GridSearchCV for Random Forest\n",
        "rf_params = {\n",
        "    'n_estimators': [100, 200],\n",
        "    'max_depth': [None, 10],\n",
        "    'min_samples_split': [2, 5]\n",
        "}\n",
        "grid_rf = GridSearchCV(RandomForestClassifier(random_state=42), rf_params, cv=3, n_jobs=-1)\n",
        "grid_rf.fit(X_train, y_train)\n",
        "best_rf_model = grid_rf.best_estimator_\n",
        "print(\" Tuned Random Forest Accuracy:\", accuracy_score(y_test, best_rf_model.predict(X_test)))\n",
        "\n",
        "# GridSearchCV for SVM\n",
        "svm_params = {\n",
        "    'C': [1, 10],\n",
        "    'kernel': ['linear']\n",
        "}\n",
        "grid_svm = GridSearchCV(SVC(random_state=42), svm_params, cv=3, n_jobs=-1)\n",
        "grid_svm.fit(X_train, y_train)\n",
        "best_svm_model = grid_svm.best_estimator_\n",
        "print(\" Tuned SVM Accuracy:\", accuracy_score(y_test, best_svm_model.predict(X_test)))\n",
        "\n",
        "# Naive Bayes (no tuning needed)\n",
        "nb_model = MultinomialNB()\n",
        "nb_model.fit(X_train, y_train)\n",
        "print(\"Naive Bayes Accuracy:\", accuracy_score(y_test, nb_model.predict(X_test)))\n",
        "\n",
        "# Feedback loop\n",
        "def user_feedback_loop(email, predicted_category):\n",
        "    print(f\"\\n Email: {email}\")\n",
        "    print(f\" Predicted Category: {predicted_category}\")\n",
        "    user_input = input(\" Enter correct category or press Enter to accept: \")\n",
        "    return user_input.strip() if user_input else predicted_category"
      ]
    },
    {
      "cell_type": "code",
      "execution_count": 31,
      "metadata": {
        "id": "Tug55kSxD_9k"
      },
      "outputs": [],
      "source": [
        "# Sample multilingual test\n",
        "sample_emails = [\n",
        "    \"¡Felicidades! Has ganado un premio. Haz clic aquí para reclamarlo.\",\n",
        "    \"Reminder: Your project deadline is tomorrow at 5 PM.\",\n",
        "    \"पारिवारिक डिनर इस सप्ताह के अंत में, आइए योजना बनाएं।\",\n",
        "    \"Biggest sale of the season! Flat 70% off on all items.\",\n",
        "    \"John tagged you in a post on Facebook.\",\n",
        "    \"Chère équipe, n'oubliez pas de soumettre le rapport mensuel.\"\n",
        "]"
      ]
    },
    {
      "cell_type": "code",
      "execution_count": 32,
      "metadata": {
        "colab": {
          "base_uri": "https://localhost:8080/"
        },
        "id": "crSjqzJ6EE8r",
        "outputId": "bb6866cc-8d88-4746-878b-80e98b306b2f"
      },
      "outputs": [
        {
          "output_type": "stream",
          "name": "stdout",
          "text": [
            "\n",
            " Predictions with Feedback Loop:\n",
            "\n",
            " Email: ¡Felicidades! Has ganado un premio. Haz clic aquí para reclamarlo.\n",
            " Predicted Category: Spam\n",
            " Enter correct category or press Enter to accept: \n",
            " Final Category (after feedback): Spam\n",
            "\n",
            " Email: Reminder: Your project deadline is tomorrow at 5 PM.\n",
            " Predicted Category: Work\n",
            " Enter correct category or press Enter to accept: \n",
            " Final Category (after feedback): Work\n",
            "\n",
            " Email: पारिवारिक डिनर इस सप्ताह के अंत में, आइए योजना बनाएं।\n",
            " Predicted Category: Personal\n",
            " Enter correct category or press Enter to accept: \n",
            " Final Category (after feedback): Personal\n",
            "\n",
            " Email: Biggest sale of the season! Flat 70% off on all items.\n",
            " Predicted Category: Promotions\n",
            " Enter correct category or press Enter to accept: \n",
            " Final Category (after feedback): Promotions\n",
            "\n",
            " Email: John tagged you in a post on Facebook.\n",
            " Predicted Category: Social\n",
            " Enter correct category or press Enter to accept: \n",
            " Final Category (after feedback): Social\n",
            "\n",
            " Email: Chère équipe, n'oubliez pas de soumettre le rapport mensuel.\n",
            " Predicted Category: Primary\n",
            " Enter correct category or press Enter to accept: \n",
            " Final Category (after feedback): Primary\n"
          ]
        }
      ],
      "source": [
        "print(\"\\n Predictions with Feedback Loop:\")\n",
        "for email in sample_emails:\n",
        "    translated = detect_and_translate(email)\n",
        "    cleaned = clean_text(translated)\n",
        "    vec = tfidf_vectorizer.transform([cleaned])\n",
        "\n",
        "    rf_pred = label_encoder.inverse_transform(best_rf_model.predict(vec))[0]\n",
        "    corrected_category = user_feedback_loop(email, rf_pred)\n",
        "    print(f\" Final Category (after feedback): {corrected_category}\")"
      ]
    },
    {
      "cell_type": "code",
      "source": [
        "\n",
        "# Save models\n",
        "with open(\"best_rf_model.pkl\", \"wb\") as f: pickle.dump(best_rf_model, f)\n",
        "with open(\"best_svm_model.pkl\", \"wb\") as f: pickle.dump(best_svm_model, f)\n",
        "with open(\"nb_model.pkl\", \"wb\") as f: pickle.dump(nb_model, f)\n",
        "with open(\"tfidf_vectorizer.pkl\", \"wb\") as f: pickle.dump(tfidf_vectorizer, f)\n",
        "with open(\"label_encoder.pkl\", \"wb\") as f: pickle.dump(label_encoder, f)\n",
        "\n",
        "print(\"\\n Models and vectorizer saved successfully.\")\n"
      ],
      "metadata": {
        "id": "3GOw8UrTngjn",
        "outputId": "34877355-3f59-4e2d-a6bc-2f1f1e6895a7",
        "colab": {
          "base_uri": "https://localhost:8080/"
        }
      },
      "execution_count": 34,
      "outputs": [
        {
          "output_type": "stream",
          "name": "stdout",
          "text": [
            "\n",
            " Models and vectorizer saved successfully.\n"
          ]
        }
      ]
    },
    {
      "cell_type": "code",
      "source": [
        "from google.colab import files\n",
        "\n",
        "files.download(\"best_rf_model.pkl\")\n",
        "files.download(\"best_svm_model.pkl\")\n",
        "files.download(\"nb_model.pkl\")\n",
        "files.download(\"tfidf_vectorizer.pkl\")\n",
        "files.download(\"label_encoder.pkl\")\n"
      ],
      "metadata": {
        "colab": {
          "base_uri": "https://localhost:8080/",
          "height": 17
        },
        "id": "zKBoII0gZNTL",
        "outputId": "b335cad5-f2a8-4d6c-e5c9-14f00233c307"
      },
      "execution_count": 35,
      "outputs": [
        {
          "output_type": "display_data",
          "data": {
            "text/plain": [
              "<IPython.core.display.Javascript object>"
            ],
            "application/javascript": [
              "\n",
              "    async function download(id, filename, size) {\n",
              "      if (!google.colab.kernel.accessAllowed) {\n",
              "        return;\n",
              "      }\n",
              "      const div = document.createElement('div');\n",
              "      const label = document.createElement('label');\n",
              "      label.textContent = `Downloading \"${filename}\": `;\n",
              "      div.appendChild(label);\n",
              "      const progress = document.createElement('progress');\n",
              "      progress.max = size;\n",
              "      div.appendChild(progress);\n",
              "      document.body.appendChild(div);\n",
              "\n",
              "      const buffers = [];\n",
              "      let downloaded = 0;\n",
              "\n",
              "      const channel = await google.colab.kernel.comms.open(id);\n",
              "      // Send a message to notify the kernel that we're ready.\n",
              "      channel.send({})\n",
              "\n",
              "      for await (const message of channel.messages) {\n",
              "        // Send a message to notify the kernel that we're ready.\n",
              "        channel.send({})\n",
              "        if (message.buffers) {\n",
              "          for (const buffer of message.buffers) {\n",
              "            buffers.push(buffer);\n",
              "            downloaded += buffer.byteLength;\n",
              "            progress.value = downloaded;\n",
              "          }\n",
              "        }\n",
              "      }\n",
              "      const blob = new Blob(buffers, {type: 'application/binary'});\n",
              "      const a = document.createElement('a');\n",
              "      a.href = window.URL.createObjectURL(blob);\n",
              "      a.download = filename;\n",
              "      div.appendChild(a);\n",
              "      a.click();\n",
              "      div.remove();\n",
              "    }\n",
              "  "
            ]
          },
          "metadata": {}
        },
        {
          "output_type": "display_data",
          "data": {
            "text/plain": [
              "<IPython.core.display.Javascript object>"
            ],
            "application/javascript": [
              "download(\"download_58b18a03-5067-4df4-8173-2cf5aec28451\", \"best_rf_model.pkl\", 90294347)"
            ]
          },
          "metadata": {}
        },
        {
          "output_type": "display_data",
          "data": {
            "text/plain": [
              "<IPython.core.display.Javascript object>"
            ],
            "application/javascript": [
              "\n",
              "    async function download(id, filename, size) {\n",
              "      if (!google.colab.kernel.accessAllowed) {\n",
              "        return;\n",
              "      }\n",
              "      const div = document.createElement('div');\n",
              "      const label = document.createElement('label');\n",
              "      label.textContent = `Downloading \"${filename}\": `;\n",
              "      div.appendChild(label);\n",
              "      const progress = document.createElement('progress');\n",
              "      progress.max = size;\n",
              "      div.appendChild(progress);\n",
              "      document.body.appendChild(div);\n",
              "\n",
              "      const buffers = [];\n",
              "      let downloaded = 0;\n",
              "\n",
              "      const channel = await google.colab.kernel.comms.open(id);\n",
              "      // Send a message to notify the kernel that we're ready.\n",
              "      channel.send({})\n",
              "\n",
              "      for await (const message of channel.messages) {\n",
              "        // Send a message to notify the kernel that we're ready.\n",
              "        channel.send({})\n",
              "        if (message.buffers) {\n",
              "          for (const buffer of message.buffers) {\n",
              "            buffers.push(buffer);\n",
              "            downloaded += buffer.byteLength;\n",
              "            progress.value = downloaded;\n",
              "          }\n",
              "        }\n",
              "      }\n",
              "      const blob = new Blob(buffers, {type: 'application/binary'});\n",
              "      const a = document.createElement('a');\n",
              "      a.href = window.URL.createObjectURL(blob);\n",
              "      a.download = filename;\n",
              "      div.appendChild(a);\n",
              "      a.click();\n",
              "      div.remove();\n",
              "    }\n",
              "  "
            ]
          },
          "metadata": {}
        },
        {
          "output_type": "display_data",
          "data": {
            "text/plain": [
              "<IPython.core.display.Javascript object>"
            ],
            "application/javascript": [
              "download(\"download_03ef9799-b279-4e54-a23b-47f2d4f322b6\", \"best_svm_model.pkl\", 751885)"
            ]
          },
          "metadata": {}
        },
        {
          "output_type": "display_data",
          "data": {
            "text/plain": [
              "<IPython.core.display.Javascript object>"
            ],
            "application/javascript": [
              "\n",
              "    async function download(id, filename, size) {\n",
              "      if (!google.colab.kernel.accessAllowed) {\n",
              "        return;\n",
              "      }\n",
              "      const div = document.createElement('div');\n",
              "      const label = document.createElement('label');\n",
              "      label.textContent = `Downloading \"${filename}\": `;\n",
              "      div.appendChild(label);\n",
              "      const progress = document.createElement('progress');\n",
              "      progress.max = size;\n",
              "      div.appendChild(progress);\n",
              "      document.body.appendChild(div);\n",
              "\n",
              "      const buffers = [];\n",
              "      let downloaded = 0;\n",
              "\n",
              "      const channel = await google.colab.kernel.comms.open(id);\n",
              "      // Send a message to notify the kernel that we're ready.\n",
              "      channel.send({})\n",
              "\n",
              "      for await (const message of channel.messages) {\n",
              "        // Send a message to notify the kernel that we're ready.\n",
              "        channel.send({})\n",
              "        if (message.buffers) {\n",
              "          for (const buffer of message.buffers) {\n",
              "            buffers.push(buffer);\n",
              "            downloaded += buffer.byteLength;\n",
              "            progress.value = downloaded;\n",
              "          }\n",
              "        }\n",
              "      }\n",
              "      const blob = new Blob(buffers, {type: 'application/binary'});\n",
              "      const a = document.createElement('a');\n",
              "      a.href = window.URL.createObjectURL(blob);\n",
              "      a.download = filename;\n",
              "      div.appendChild(a);\n",
              "      a.click();\n",
              "      div.remove();\n",
              "    }\n",
              "  "
            ]
          },
          "metadata": {}
        },
        {
          "output_type": "display_data",
          "data": {
            "text/plain": [
              "<IPython.core.display.Javascript object>"
            ],
            "application/javascript": [
              "download(\"download_b299b6a5-41eb-4a46-90d3-dab75a2b309c\", \"nb_model.pkl\", 560737)"
            ]
          },
          "metadata": {}
        },
        {
          "output_type": "display_data",
          "data": {
            "text/plain": [
              "<IPython.core.display.Javascript object>"
            ],
            "application/javascript": [
              "\n",
              "    async function download(id, filename, size) {\n",
              "      if (!google.colab.kernel.accessAllowed) {\n",
              "        return;\n",
              "      }\n",
              "      const div = document.createElement('div');\n",
              "      const label = document.createElement('label');\n",
              "      label.textContent = `Downloading \"${filename}\": `;\n",
              "      div.appendChild(label);\n",
              "      const progress = document.createElement('progress');\n",
              "      progress.max = size;\n",
              "      div.appendChild(progress);\n",
              "      document.body.appendChild(div);\n",
              "\n",
              "      const buffers = [];\n",
              "      let downloaded = 0;\n",
              "\n",
              "      const channel = await google.colab.kernel.comms.open(id);\n",
              "      // Send a message to notify the kernel that we're ready.\n",
              "      channel.send({})\n",
              "\n",
              "      for await (const message of channel.messages) {\n",
              "        // Send a message to notify the kernel that we're ready.\n",
              "        channel.send({})\n",
              "        if (message.buffers) {\n",
              "          for (const buffer of message.buffers) {\n",
              "            buffers.push(buffer);\n",
              "            downloaded += buffer.byteLength;\n",
              "            progress.value = downloaded;\n",
              "          }\n",
              "        }\n",
              "      }\n",
              "      const blob = new Blob(buffers, {type: 'application/binary'});\n",
              "      const a = document.createElement('a');\n",
              "      a.href = window.URL.createObjectURL(blob);\n",
              "      a.download = filename;\n",
              "      div.appendChild(a);\n",
              "      a.click();\n",
              "      div.remove();\n",
              "    }\n",
              "  "
            ]
          },
          "metadata": {}
        },
        {
          "output_type": "display_data",
          "data": {
            "text/plain": [
              "<IPython.core.display.Javascript object>"
            ],
            "application/javascript": [
              "download(\"download_41d0447b-d58a-4389-9422-8288e3bc715d\", \"tfidf_vectorizer.pkl\", 179737)"
            ]
          },
          "metadata": {}
        },
        {
          "output_type": "display_data",
          "data": {
            "text/plain": [
              "<IPython.core.display.Javascript object>"
            ],
            "application/javascript": [
              "\n",
              "    async function download(id, filename, size) {\n",
              "      if (!google.colab.kernel.accessAllowed) {\n",
              "        return;\n",
              "      }\n",
              "      const div = document.createElement('div');\n",
              "      const label = document.createElement('label');\n",
              "      label.textContent = `Downloading \"${filename}\": `;\n",
              "      div.appendChild(label);\n",
              "      const progress = document.createElement('progress');\n",
              "      progress.max = size;\n",
              "      div.appendChild(progress);\n",
              "      document.body.appendChild(div);\n",
              "\n",
              "      const buffers = [];\n",
              "      let downloaded = 0;\n",
              "\n",
              "      const channel = await google.colab.kernel.comms.open(id);\n",
              "      // Send a message to notify the kernel that we're ready.\n",
              "      channel.send({})\n",
              "\n",
              "      for await (const message of channel.messages) {\n",
              "        // Send a message to notify the kernel that we're ready.\n",
              "        channel.send({})\n",
              "        if (message.buffers) {\n",
              "          for (const buffer of message.buffers) {\n",
              "            buffers.push(buffer);\n",
              "            downloaded += buffer.byteLength;\n",
              "            progress.value = downloaded;\n",
              "          }\n",
              "        }\n",
              "      }\n",
              "      const blob = new Blob(buffers, {type: 'application/binary'});\n",
              "      const a = document.createElement('a');\n",
              "      a.href = window.URL.createObjectURL(blob);\n",
              "      a.download = filename;\n",
              "      div.appendChild(a);\n",
              "      a.click();\n",
              "      div.remove();\n",
              "    }\n",
              "  "
            ]
          },
          "metadata": {}
        },
        {
          "output_type": "display_data",
          "data": {
            "text/plain": [
              "<IPython.core.display.Javascript object>"
            ],
            "application/javascript": [
              "download(\"download_aa2fc06a-17bc-4f25-817c-1ce11a3f633e\", \"label_encoder.pkl\", 309)"
            ]
          },
          "metadata": {}
        }
      ]
    }
  ],
  "metadata": {
    "colab": {
      "provenance": []
    },
    "kernelspec": {
      "display_name": "Python 3",
      "name": "python3"
    },
    "language_info": {
      "name": "python"
    }
  },
  "nbformat": 4,
  "nbformat_minor": 0
}